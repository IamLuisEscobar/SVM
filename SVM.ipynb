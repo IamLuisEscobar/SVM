{
 "cells": [
  {
   "cell_type": "code",
   "execution_count": null,
   "metadata": {},
   "outputs": [],
   "source": [
    "print(\"Some practice for GitHub\")\n",
    "print(\"Version 3\")\n",
    "\n",
    "print(\"We are working on new implementations for the algorithm\")"
   ]
  }
 ],
 "metadata": {
  "language_info": {
   "name": "python"
  }
 },
 "nbformat": 4,
 "nbformat_minor": 2
}
